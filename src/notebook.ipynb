{
 "cells": [
  {
   "cell_type": "code",
   "execution_count": 1,
   "metadata": {},
   "outputs": [
    {
     "name": "stdout",
     "output_type": "stream",
     "text": [
      "/workspaces/cautious-rotary-phone/src/tts_by_line.py:37: DeprecationWarning: Due to a bug, this method doesn't actually stream the response content, `.with_streaming_response.method()` should be used instead\n",
      "  response.stream_to_file(speech_file_path)\n",
      "Saved /workspaces/cautious-rotary-phone/src/minimum-cost-to-convert-string-i/audios/line_1.mp3\n",
      "Saved /workspaces/cautious-rotary-phone/src/minimum-cost-to-convert-string-i/audios/line_2.mp3\n",
      "Saved /workspaces/cautious-rotary-phone/src/minimum-cost-to-convert-string-i/audios/line_3.mp3\n",
      "Saved /workspaces/cautious-rotary-phone/src/minimum-cost-to-convert-string-i/audios/line_4.mp3\n",
      "Saved /workspaces/cautious-rotary-phone/src/minimum-cost-to-convert-string-i/audios/line_5.mp3\n",
      "Saved /workspaces/cautious-rotary-phone/src/minimum-cost-to-convert-string-i/audios/line_6.mp3\n",
      "Saved /workspaces/cautious-rotary-phone/src/minimum-cost-to-convert-string-i/audios/line_7.mp3\n",
      "Saved /workspaces/cautious-rotary-phone/src/minimum-cost-to-convert-string-i/audios/line_8.mp3\n",
      "Saved /workspaces/cautious-rotary-phone/src/minimum-cost-to-convert-string-i/audios/line_9.mp3\n",
      "Saved /workspaces/cautious-rotary-phone/src/minimum-cost-to-convert-string-i/audios/line_10.mp3\n",
      "Saved /workspaces/cautious-rotary-phone/src/minimum-cost-to-convert-string-i/audios/line_11.mp3\n",
      "Saved /workspaces/cautious-rotary-phone/src/minimum-cost-to-convert-string-i/audios/line_12.mp3\n"
     ]
    }
   ],
   "source": [
    "!python tts_by_line.py minimum-cost-to-convert-string-i"
   ]
  }
 ],
 "metadata": {
  "kernelspec": {
   "display_name": "Python 3",
   "language": "python",
   "name": "python3"
  },
  "language_info": {
   "codemirror_mode": {
    "name": "ipython",
    "version": 3
   },
   "file_extension": ".py",
   "mimetype": "text/x-python",
   "name": "python",
   "nbconvert_exporter": "python",
   "pygments_lexer": "ipython3",
   "version": "3.10.13"
  }
 },
 "nbformat": 4,
 "nbformat_minor": 2
}
