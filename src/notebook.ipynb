{
 "cells": [
  {
   "cell_type": "code",
   "execution_count": 8,
   "metadata": {},
   "outputs": [
    {
     "name": "stdout",
     "output_type": "stream",
     "text": [
      "/workspaces/cautious-rotary-phone/src/tts_by_line.py:37: DeprecationWarning: Due to a bug, this method doesn't actually stream the response content, `.with_streaming_response.method()` should be used instead\n",
      "  response.stream_to_file(speech_file_path)\n",
      "Saved /workspaces/cautious-rotary-phone/src/minimum-cost-to-convert-string-i/audios/line_8.mp3\n",
      "Traceback (most recent call last):\n",
      "  File \"/workspaces/cautious-rotary-phone/src/tts_by_line.py\", line 46, in <module>\n",
      "    main(folder_name)\n",
      "  File \"/workspaces/cautious-rotary-phone/src/tts_by_line.py\", line 34, in main\n",
      "    response = client.audio.speech.create(\n",
      "  File \"/usr/local/python/3.10.13/lib/python3.10/site-packages/openai/resources/audio/speech.py\", line 86, in create\n",
      "    return self._post(\n",
      "  File \"/usr/local/python/3.10.13/lib/python3.10/site-packages/openai/_base_client.py\", line 1266, in post\n",
      "    return cast(ResponseT, self.request(cast_to, opts, stream=stream, stream_cls=stream_cls))\n",
      "  File \"/usr/local/python/3.10.13/lib/python3.10/site-packages/openai/_base_client.py\", line 942, in request\n",
      "    return self._request(\n",
      "  File \"/usr/local/python/3.10.13/lib/python3.10/site-packages/openai/_base_client.py\", line 1031, in _request\n",
      "    return self._retry_request(\n",
      "  File \"/usr/local/python/3.10.13/lib/python3.10/site-packages/openai/_base_client.py\", line 1079, in _retry_request\n",
      "    return self._request(\n",
      "  File \"/usr/local/python/3.10.13/lib/python3.10/site-packages/openai/_base_client.py\", line 1031, in _request\n",
      "    return self._retry_request(\n",
      "  File \"/usr/local/python/3.10.13/lib/python3.10/site-packages/openai/_base_client.py\", line 1079, in _retry_request\n",
      "    return self._request(\n",
      "  File \"/usr/local/python/3.10.13/lib/python3.10/site-packages/openai/_base_client.py\", line 1046, in _request\n",
      "    raise self._make_status_error_from_response(err.response) from None\n",
      "openai.RateLimitError: Error code: 429 - {'error': {'message': 'Rate limit reached for tts-1-hd in organization org-A8tNebtFfST3Ota3YCTie51J on requests per min (RPM): Limit 3, Used 3, Requested 1. Please try again in 20s. Visit https://platform.openai.com/account/rate-limits to learn more.', 'type': 'requests', 'param': None, 'code': 'rate_limit_exceeded'}}\n"
     ]
    }
   ],
   "source": [
    "!python tts_by_line.py minimum-cost-to-convert-string-i"
   ]
  }
 ],
 "metadata": {
  "kernelspec": {
   "display_name": "Python 3",
   "language": "python",
   "name": "python3"
  },
  "language_info": {
   "codemirror_mode": {
    "name": "ipython",
    "version": 3
   },
   "file_extension": ".py",
   "mimetype": "text/x-python",
   "name": "python",
   "nbconvert_exporter": "python",
   "pygments_lexer": "ipython3",
   "version": "3.10.13"
  }
 },
 "nbformat": 4,
 "nbformat_minor": 2
}
