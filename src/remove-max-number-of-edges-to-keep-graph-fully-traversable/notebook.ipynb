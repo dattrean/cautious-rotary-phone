{
 "cells": [
  {
   "cell_type": "markdown",
   "metadata": {},
   "source": [
    "# 1605. Find Valid Matrix Given Row and Column Sums\n",
    "\n",
    "You are given two arrays `rowSum` and `colSum` of non-negative integers\n",
    "where `rowSum[i]` is the sum of the elements in the `i`<sup>`th`</sup>\n",
    "row and `colSum[j]` is the sum of the elements of the `j`<sup>`th`</sup>\n",
    "column of a 2D matrix. In other words, you do not know the elements of\n",
    "the matrix, but you do know the sums of each row and column.\n",
    "\n",
    "Find any matrix of **non-negative** integers of size\n",
    "`rowSum.length x colSum.length` that satisfies the `rowSum` and `colSum`\n",
    "requirements.\n",
    "\n",
    "Return *a 2D array representing **any** matrix that fulfills the\n",
    "requirements*. It's guaranteed that **at least one** matrix that\n",
    "fulfills the requirements exists.\n",
    "\n",
    "**Example 1:**\n",
    "\n",
    "    Input: rowSum = [3,8], colSum = [4,7]\n",
    "    Output: [[3,0],\n",
    "             [1,7]]\n",
    "    Explanation: \n",
    "    0th row: 3 + 0 = 3 == rowSum[0]\n",
    "    1st row: 1 + 7 = 8 == rowSum[1]\n",
    "    0th column: 3 + 1 = 4 == colSum[0]\n",
    "    1st column: 0 + 7 = 7 == colSum[1]\n",
    "    The row and column sums match, and all matrix elements are non-negative.\n",
    "    Another possible matrix is: [[1,2],\n",
    "                                 [3,5]]\n",
    "\n",
    "**Example 2:**\n",
    "\n",
    "    Input: rowSum = [5,7,10], colSum = [8,6,8]\n",
    "    Output: [[0,5,0],\n",
    "             [6,1,0],\n",
    "             [2,0,8]]\n",
    "\n",
    "**Constraints:**\n",
    "\n",
    "- `1 <= rowSum.length, colSum.length <= 500`\n",
    "- `0 <= rowSum[i], colSum[i] <= 10`<sup>`8`</sup>\n",
    "- `sum(rowSum) == sum(colSum)`"
   ]
  },
  {
   "cell_type": "code",
   "execution_count": 1,
   "metadata": {},
   "outputs": [
    {
     "name": "stdout",
     "output_type": "stream",
     "text": [
      "[[3, 0], [1, 7]]\n",
      "[[5, 0, 0], [3, 4, 0], [0, 2, 8]]\n"
     ]
    }
   ],
   "source": [
    "class Solution:\n",
    "    def restoreMatrix(self, rowSum: list[int], colSum: list[int]) -> list[list[int]]:\n",
    "        # Initialize the matrix with zeros\n",
    "        num_rows = len(rowSum)\n",
    "        num_cols = len(colSum)\n",
    "        matrix = [[0] * num_cols for _ in range(num_rows)]\n",
    "\n",
    "        # Loop through all cells of the matrix\n",
    "        row_index, col_index = 0, 0\n",
    "        while row_index < num_rows and col_index < num_cols:\n",
    "\n",
    "            # Set the current cell to the minimum of the current sums\n",
    "            matrix[row_index][col_index] = min(rowSum[row_index], colSum[col_index])\n",
    "\n",
    "            # Subtract the assigned value from both rowSum and colSum\n",
    "            rowSum[row_index] -= matrix[row_index][col_index]\n",
    "            colSum[col_index] -= matrix[row_index][col_index]\n",
    "\n",
    "            # Move to the next row if the current row sum is zero\n",
    "            if rowSum[row_index] == 0:\n",
    "                row_index += 1\n",
    "            else:\n",
    "                # Move to the next column otherwise\n",
    "                col_index += 1\n",
    "\n",
    "        # Return the matrix\n",
    "        return matrix\n",
    "\n",
    "\n",
    "solution = Solution()\n",
    "print(solution.restoreMatrix([3, 8], [4, 7]))\n",
    "print(solution.restoreMatrix([5, 7, 10], [8, 6, 8]))"
   ]
  }
 ],
 "metadata": {
  "kernelspec": {
   "display_name": "Python 3",
   "language": "python",
   "name": "python3"
  },
  "language_info": {
   "codemirror_mode": {
    "name": "ipython",
    "version": 3
   },
   "file_extension": ".py",
   "mimetype": "text/x-python",
   "name": "python",
   "nbconvert_exporter": "python",
   "pygments_lexer": "ipython3",
   "version": "3.10.13"
  }
 },
 "nbformat": 4,
 "nbformat_minor": 2
}
