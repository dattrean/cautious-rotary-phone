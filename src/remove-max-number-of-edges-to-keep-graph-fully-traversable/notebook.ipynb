{
 "cells": [
  {
   "cell_type": "code",
   "execution_count": null,
   "metadata": {},
   "outputs": [],
   "source": [
    "class Solution:\n",
    "    def restoreMatrix(self, rowSum: list[int], colSum: list[int]) -> list[list[int]]:\n",
    "        # Initialize the matrix with zeros\n",
    "        num_rows = len(rowSum)\n",
    "        num_cols = len(colSum)\n",
    "        matrix = [[0] * num_cols for _ in range(num_rows)]\n",
    "\n",
    "        # Loop through all cells of the matrix\n",
    "        row_index, col_index = 0, 0\n",
    "        while row_index < num_rows and col_index < num_cols:\n",
    "\n",
    "            # Set the current cell to the minimum of the current sums\n",
    "            matrix[row_index][col_index] = min(rowSum[row_index], colSum[col_index])\n",
    "\n",
    "            # Subtract the assigned value from both rowSum and colSum\n",
    "            rowSum[row_index] -= matrix[row_index][col_index]\n",
    "            colSum[col_index] -= matrix[row_index][col_index]\n",
    "\n",
    "            # Move to the next row if the current row sum is zero\n",
    "            if rowSum[row_index] == 0:\n",
    "                row_index += 1\n",
    "            else:\n",
    "                # Move to the next column otherwise\n",
    "                col_index += 1\n",
    "\n",
    "        # Return the matrix\n",
    "        return matrix\n",
    "\n",
    "\n",
    "solution = Solution()\n",
    "print(solution.restoreMatrix([3, 8], [4, 7]))\n",
    "print(solution.restoreMatrix([5, 7, 10], [8, 6, 8]))\n"
   ]
  }
 ],
 "metadata": {
  "language_info": {
   "name": "python"
  }
 },
 "nbformat": 4,
 "nbformat_minor": 2
}
